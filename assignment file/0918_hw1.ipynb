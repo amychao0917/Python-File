{
 "cells": [
  {
   "cell_type": "code",
   "execution_count": null,
   "metadata": {},
   "outputs": [
    {
     "name": "stdout",
     "output_type": "stream",
     "text": [
      "(,,・ω・,,)我在教室後面站超久還是沒有加簽到 嗚嗚人生\n",
      "因為體育延畢的大有人在呢 拍~\n",
      "(,,・ω・,,)明天就要想出 final project 的主題了 完全沒有靈感啊啊\n",
      "有時忽得驚人句，費盡心機做不成 拍~\n",
      "(,,・ω・,,)時間過好快喔 快畢業也快失業了...\n",
      "伯樂會找到你的 拍~\n",
      "(,,・ω・,,)跟你說 最讓我煩心的是 明明快忘記他了 又有人提起他和別人在一起 嗚嗚\n",
      "忘記一個人只需要兩樣東西，時間與新歡。他選擇了新歡，而你選擇了時間 拍~\n",
      "(,,・ω・,,)雖然這些煩心事還是在 但謝謝你善良的安慰(〒︿〒) 你大概是天使吧~~\n",
      "不，我只是個解憂拍拍機器人\n"
     ]
    }
   ],
   "source": [
    "msg='解憂拍拍'\n",
    "\n",
    "while (msg!=\"謝謝你(〒︿〒) 你大概是天使吧\"):\n",
    "    msg=input(\"(,,・ω・,,)\")\n",
    "    if \"加簽\" in msg:\n",
    "        print(\"因為體育延畢的大有人在呢 拍~\")\n",
    "    elif \"沒有靈感\" in msg:\n",
    "        print(\"有時忽得驚人句，費盡心機做不成 拍~\")\n",
    "    elif \"失業\" in msg:\n",
    "        print(\"伯樂會找到你的 拍~\")\n",
    "    elif \"忘記\" in msg:\n",
    "        print(\"忘記一個人只需要兩樣東西，時間與新歡。他選擇了新歡，而你選擇了時間 拍~\")\n",
    "    else:\n",
    "        print(\"不，我只是個解憂拍拍機器人\")"
   ]
  },
  {
   "cell_type": "code",
   "execution_count": 1,
   "metadata": {},
   "outputs": [],
   "source": [
    "from ipywidgets import interact"
   ]
  },
  {
   "cell_type": "code",
   "execution_count": 2,
   "metadata": {},
   "outputs": [],
   "source": [
    "def f(心情):\n",
    "    print(心情)"
   ]
  },
  {
   "cell_type": "code",
   "execution_count": 3,
   "metadata": {},
   "outputs": [
    {
     "name": "stdout",
     "output_type": "stream",
     "text": [
      "國家\n"
     ]
    },
    {
     "data": {
      "application/vnd.jupyter.widget-view+json": {
       "model_id": "a1e16334b1504d04ba7619b07779fb58",
       "version_major": 2,
       "version_minor": 0
      },
      "text/plain": [
       "interactive(children=(Dropdown(description='心情', options={'想放鬆': '峇里島', '壓力大': '夏威夷', '提升藝術氣息': '法國', '想探險': '…"
      ]
     },
     "metadata": {},
     "output_type": "display_data"
    },
    {
     "data": {
      "text/plain": [
       "<function __main__.f(心情)>"
      ]
     },
     "execution_count": 3,
     "metadata": {},
     "output_type": "execute_result"
    }
   ],
   "source": [
    "print(\"國家\")\n",
    "interact(f,心情 =dict(想放鬆 = (\"峇里島\"),\n",
    "                     壓力大 = (\"夏威夷\"),\n",
    "                     提升藝術氣息 = (\"法國\"),\n",
    "                     想探險 = (\"亞馬遜熱帶雨林\"),\n",
    "                     想增廣見聞 = (\"好好讀書xd\")))"
   ]
  },
  {
   "cell_type": "code",
   "execution_count": null,
   "metadata": {},
   "outputs": [],
   "source": []
  }
 ],
 "metadata": {
  "kernelspec": {
   "display_name": "Python 3",
   "language": "python",
   "name": "python3"
  },
  "language_info": {
   "codemirror_mode": {
    "name": "ipython",
    "version": 3
   },
   "file_extension": ".py",
   "mimetype": "text/x-python",
   "name": "python",
   "nbconvert_exporter": "python",
   "pygments_lexer": "ipython3",
   "version": "3.7.3"
  }
 },
 "nbformat": 4,
 "nbformat_minor": 2
}
