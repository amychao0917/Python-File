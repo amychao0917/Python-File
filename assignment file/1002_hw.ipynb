{
 "cells": [
  {
   "cell_type": "code",
   "execution_count": 1,
   "metadata": {},
   "outputs": [],
   "source": [
    "%matplotlib inline\n",
    "\n",
    "import numpy as np\n",
    "import matplotlib.pyplot as plt\n",
    "import pandas as pd"
   ]
  },
  {
   "cell_type": "code",
   "execution_count": 2,
   "metadata": {},
   "outputs": [
    {
     "name": "stdout",
     "output_type": "stream",
     "text": [
      "王赦跨年夜在貓空纜車優雅地對著雜草說話\n"
     ]
    }
   ],
   "source": [
    "import random\n",
    "\n",
    "a=[\"宋喬安\",\"李大芝\",\"王赦\",\"李曉明\",\"應思悅\"]\n",
    "b=[\"跨年夜\",\"開學前一天\",\"昨天早上\",\"上課中\",\"今天\"]\n",
    "c=[\"圖書館\",\"環球影城\",\"公園前派出所\",\"地下室\",\"貓空纜車\",\"釣魚台\"]\n",
    "d=[\"優雅地\",\"邋遢地\",\"不假思索地\",\"肆無忌憚地\",\"興高采烈地\",\"愁眉苦臉地\"]\n",
    "e=[\"吃拉麵\",\"禱告\",\"大唱兩隻老虎\",\"對著雜草說話\",\"學螞蟻叫\",\"跳芭蕾\"]\n",
    "\n",
    "print(random.choice(a)+ random.choice(b)+\"在\"+ random.choice(c)+ random.choice(d)+random.choice(e))"
   ]
  },
  {
   "cell_type": "code",
   "execution_count": null,
   "metadata": {},
   "outputs": [],
   "source": []
  }
 ],
 "metadata": {
  "kernelspec": {
   "display_name": "Python 3",
   "language": "python",
   "name": "python3"
  },
  "language_info": {
   "codemirror_mode": {
    "name": "ipython",
    "version": 3
   },
   "file_extension": ".py",
   "mimetype": "text/x-python",
   "name": "python",
   "nbconvert_exporter": "python",
   "pygments_lexer": "ipython3",
   "version": "3.7.3"
  }
 },
 "nbformat": 4,
 "nbformat_minor": 2
}
