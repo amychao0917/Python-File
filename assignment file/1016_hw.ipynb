{
 "cells": [
  {
   "cell_type": "markdown",
   "metadata": {},
   "source": [
    "# 1. 互動式 BMI 計算器"
   ]
  },
  {
   "cell_type": "code",
   "execution_count": 1,
   "metadata": {},
   "outputs": [],
   "source": [
    "import numpy as np"
   ]
  },
  {
   "cell_type": "code",
   "execution_count": 2,
   "metadata": {},
   "outputs": [
    {
     "data": {
      "application/vnd.jupyter.widget-view+json": {
       "model_id": "ca980719454045cbb18c208edc43ba63",
       "version_major": 2,
       "version_minor": 0
      },
      "text/plain": [
       "interactive(children=(IntSlider(value=100, description='weight', max=200), IntSlider(value=100, description='h…"
      ]
     },
     "metadata": {},
     "output_type": "display_data"
    },
    {
     "data": {
      "text/plain": [
       "<function __main__.BMI(weight, height)>"
      ]
     },
     "execution_count": 2,
     "metadata": {},
     "output_type": "execute_result"
    }
   ],
   "source": [
    "from ipywidgets import interact\n",
    "\n",
    "def BMI(weight,height):\n",
    "    return round(weight/(height/100)**2,2)\n",
    "interact(BMI,weight=(0,200),height=(0,200))"
   ]
  },
  {
   "cell_type": "markdown",
   "metadata": {},
   "source": [
    "# 2. 畫個圖"
   ]
  },
  {
   "cell_type": "code",
   "execution_count": 3,
   "metadata": {},
   "outputs": [
    {
     "name": "stdout",
     "output_type": "stream",
     "text": [
      "          *\n",
      "          ｜\n",
      "         ***\n",
      "          ｜\n",
      "        *****\n",
      "          ｜\n",
      "       *******\n",
      "          ｜\n",
      "      *********\n",
      "          ｜\n",
      "     ***********\n",
      "          ｜\n",
      "    *************\n",
      "          ｜\n",
      "   ***************\n",
      "          ｜\n",
      "  *****************\n",
      "          ｜\n",
      " *******************\n",
      "          ｜\n"
     ]
    }
   ],
   "source": [
    "height=10\n",
    "for i in range(height):\n",
    "    print((' '*(height-i))+('*'*((2*i)+1)))\n",
    "    print((' '*height)+'｜')"
   ]
  },
  {
   "cell_type": "markdown",
   "metadata": {},
   "source": [
    "# 3 你有三次機會"
   ]
  },
  {
   "cell_type": "code",
   "execution_count": null,
   "metadata": {},
   "outputs": [],
   "source": [
    "a=0\n",
    "while a<3:\n",
    "    name=input(\"請輸入用戶名稱: \")\n",
    "    password=input(\"請輸入密碼: \")\n",
    "    a +=1\n",
    "    if name=='王大明'and password=='369085':\n",
    "        print(\"成功\")\n",
    "        exit()\n",
    "    else:\n",
    "        print(\"輸入錯誤，請再輸一次\")\n",
    "        print(\"輸入錯誤三次，你沒機會了\")"
   ]
  },
  {
   "cell_type": "code",
   "execution_count": null,
   "metadata": {},
   "outputs": [],
   "source": []
  }
 ],
 "metadata": {
  "kernelspec": {
   "display_name": "Python 3",
   "language": "python",
   "name": "python3"
  },
  "language_info": {
   "codemirror_mode": {
    "name": "ipython",
    "version": 3
   },
   "file_extension": ".py",
   "mimetype": "text/x-python",
   "name": "python",
   "nbconvert_exporter": "python",
   "pygments_lexer": "ipython3",
   "version": "3.7.3"
  }
 },
 "nbformat": 4,
 "nbformat_minor": 2
}
