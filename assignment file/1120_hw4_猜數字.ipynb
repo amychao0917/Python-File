{
 "cells": [
  {
   "cell_type": "code",
   "execution_count": 7,
   "metadata": {},
   "outputs": [
    {
     "name": "stdout",
     "output_type": "stream",
     "text": [
      "Populating the interactive namespace from numpy and matplotlib\n",
      "來看看你多會猜！請從1~50輸入一個號碼： 5\n",
      "答對了！\n"
     ]
    }
   ],
   "source": [
    "%pylab inline\n",
    "r=randint(1,51)\n",
    "a=0\n",
    "while a!=r:\n",
    "    a=int(input(\"來看看你多會猜！請從1~50輸入一個號碼： \"))\n",
    "    if (a<r):\n",
    "        print(\"比{}大，再試試看\".format(a))\n",
    "    elif (a>r):\n",
    "        print(\"比{}小，再試試看\".format(a))\n",
    "    else:\n",
    "        print(\"答對了！\")"
   ]
  },
  {
   "cell_type": "code",
   "execution_count": null,
   "metadata": {},
   "outputs": [],
   "source": []
  }
 ],
 "metadata": {
  "kernelspec": {
   "display_name": "Python 3",
   "language": "python",
   "name": "python3"
  },
  "language_info": {
   "codemirror_mode": {
    "name": "ipython",
    "version": 3
   },
   "file_extension": ".py",
   "mimetype": "text/x-python",
   "name": "python",
   "nbconvert_exporter": "python",
   "pygments_lexer": "ipython3",
   "version": "3.7.3"
  }
 },
 "nbformat": 4,
 "nbformat_minor": 2
}
