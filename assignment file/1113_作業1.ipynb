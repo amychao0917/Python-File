{
 "cells": [
  {
   "cell_type": "markdown",
   "metadata": {},
   "source": [
    "# 1.股票預測"
   ]
  },
  {
   "cell_type": "code",
   "execution_count": 1,
   "metadata": {},
   "outputs": [],
   "source": [
    "%matplotlib inline\n",
    "import numpy as np\n",
    "import matplotlib.pyplot as plt\n",
    "import pandas as pd\n",
    "import pandas_datareader.data as web"
   ]
  },
  {
   "cell_type": "code",
   "execution_count": 2,
   "metadata": {},
   "outputs": [],
   "source": [
    "df = web.DataReader(\"AAPL\",\"yahoo\")"
   ]
  },
  {
   "cell_type": "code",
   "execution_count": 3,
   "metadata": {},
   "outputs": [
    {
     "data": {
      "text/html": [
       "<div>\n",
       "<style scoped>\n",
       "    .dataframe tbody tr th:only-of-type {\n",
       "        vertical-align: middle;\n",
       "    }\n",
       "\n",
       "    .dataframe tbody tr th {\n",
       "        vertical-align: top;\n",
       "    }\n",
       "\n",
       "    .dataframe thead th {\n",
       "        text-align: right;\n",
       "    }\n",
       "</style>\n",
       "<table border=\"1\" class=\"dataframe\">\n",
       "  <thead>\n",
       "    <tr style=\"text-align: right;\">\n",
       "      <th></th>\n",
       "      <th>High</th>\n",
       "      <th>Low</th>\n",
       "      <th>Open</th>\n",
       "      <th>Close</th>\n",
       "      <th>Volume</th>\n",
       "      <th>Adj Close</th>\n",
       "    </tr>\n",
       "    <tr>\n",
       "      <th>Date</th>\n",
       "      <th></th>\n",
       "      <th></th>\n",
       "      <th></th>\n",
       "      <th></th>\n",
       "      <th></th>\n",
       "      <th></th>\n",
       "    </tr>\n",
       "  </thead>\n",
       "  <tbody>\n",
       "    <tr>\n",
       "      <th>2019-11-11</th>\n",
       "      <td>262.470001</td>\n",
       "      <td>258.279999</td>\n",
       "      <td>258.299988</td>\n",
       "      <td>262.200012</td>\n",
       "      <td>20455300.0</td>\n",
       "      <td>262.200012</td>\n",
       "    </tr>\n",
       "    <tr>\n",
       "      <th>2019-11-12</th>\n",
       "      <td>262.790009</td>\n",
       "      <td>260.920013</td>\n",
       "      <td>261.549988</td>\n",
       "      <td>261.959991</td>\n",
       "      <td>21847200.0</td>\n",
       "      <td>261.959991</td>\n",
       "    </tr>\n",
       "    <tr>\n",
       "      <th>2019-11-13</th>\n",
       "      <td>264.779999</td>\n",
       "      <td>261.070007</td>\n",
       "      <td>261.130005</td>\n",
       "      <td>264.470001</td>\n",
       "      <td>25683600.0</td>\n",
       "      <td>264.470001</td>\n",
       "    </tr>\n",
       "    <tr>\n",
       "      <th>2019-11-14</th>\n",
       "      <td>264.880005</td>\n",
       "      <td>262.100006</td>\n",
       "      <td>263.750000</td>\n",
       "      <td>262.640015</td>\n",
       "      <td>22295700.0</td>\n",
       "      <td>262.640015</td>\n",
       "    </tr>\n",
       "    <tr>\n",
       "      <th>2019-11-15</th>\n",
       "      <td>265.779999</td>\n",
       "      <td>263.010010</td>\n",
       "      <td>263.679993</td>\n",
       "      <td>265.760010</td>\n",
       "      <td>25051600.0</td>\n",
       "      <td>265.760010</td>\n",
       "    </tr>\n",
       "  </tbody>\n",
       "</table>\n",
       "</div>"
      ],
      "text/plain": [
       "                  High         Low        Open       Close      Volume  \\\n",
       "Date                                                                     \n",
       "2019-11-11  262.470001  258.279999  258.299988  262.200012  20455300.0   \n",
       "2019-11-12  262.790009  260.920013  261.549988  261.959991  21847200.0   \n",
       "2019-11-13  264.779999  261.070007  261.130005  264.470001  25683600.0   \n",
       "2019-11-14  264.880005  262.100006  263.750000  262.640015  22295700.0   \n",
       "2019-11-15  265.779999  263.010010  263.679993  265.760010  25051600.0   \n",
       "\n",
       "             Adj Close  \n",
       "Date                    \n",
       "2019-11-11  262.200012  \n",
       "2019-11-12  261.959991  \n",
       "2019-11-13  264.470001  \n",
       "2019-11-14  262.640015  \n",
       "2019-11-15  265.760010  "
      ]
     },
     "execution_count": 3,
     "metadata": {},
     "output_type": "execute_result"
    }
   ],
   "source": [
    "df_new = df[(len(df)-301):len(df)]\n",
    "df_new.tail()"
   ]
  },
  {
   "cell_type": "code",
   "execution_count": 4,
   "metadata": {},
   "outputs": [],
   "source": [
    "df_close = df_new[\"Close\"]"
   ]
  },
  {
   "cell_type": "code",
   "execution_count": 5,
   "metadata": {},
   "outputs": [],
   "source": [
    "x = df_close[0:300]\n",
    "y = df_close[1:301]"
   ]
  },
  {
   "cell_type": "code",
   "execution_count": 6,
   "metadata": {},
   "outputs": [],
   "source": [
    "X = np.array(df_close[0:300])\n",
    "Y = np.array(df_close[1:301])\n",
    "X = X.reshape([300,1])\n",
    "Y = Y.reshape([300,1])"
   ]
  },
  {
   "cell_type": "code",
   "execution_count": 7,
   "metadata": {},
   "outputs": [],
   "source": [
    "from sklearn.model_selection import train_test_split\n",
    "from sklearn.linear_model import LinearRegression"
   ]
  },
  {
   "cell_type": "code",
   "execution_count": 8,
   "metadata": {},
   "outputs": [],
   "source": [
    "X_train, X_test, Y_train, Y_test = train_test_split(X,Y,test_size=0.2,random_state = 34)"
   ]
  },
  {
   "cell_type": "code",
   "execution_count": 9,
   "metadata": {},
   "outputs": [],
   "source": [
    "model_1 = LinearRegression()\n",
    "model_1.fit(X_train,Y_train)\n",
    "Y_predict = model_1.predict(X_test)"
   ]
  },
  {
   "cell_type": "code",
   "execution_count": 13,
   "metadata": {},
   "outputs": [
    {
     "data": {
      "text/plain": [
       "[<matplotlib.lines.Line2D at 0x24ef76472b0>]"
      ]
     },
     "execution_count": 13,
     "metadata": {},
     "output_type": "execute_result"
    },
    {
     "data": {
      "image/png": "[encoded data removed]",
      "text/plain": [
       "<Figure size 432x288 with 1 Axes>"
      ]
     },
     "metadata": {
      "needs_background": "light"
     },
     "output_type": "display_data"
    }
   ],
   "source": [
    "plt.scatter(Y_test,Y_predict)\n",
    "plt.xlabel('True Close Price')\n",
    "plt.ylabel('Predicted Close Price')\n",
    "plt.plot(X_train,model_1.predict(X_train),'r')"
   ]
  },
  {
   "cell_type": "code",
   "execution_count": null,
   "metadata": {},
   "outputs": [],
   "source": []
  }
 ],
 "metadata": {
  "kernelspec": {
   "display_name": "Python 3",
   "language": "python",
   "name": "python3"
  },
  "language_info": {
   "codemirror_mode": {
    "name": "ipython",
    "version": 3
   },
   "file_extension": ".py",
   "mimetype": "text/x-python",
   "name": "python",
   "nbconvert_exporter": "python",
   "pygments_lexer": "ipython3",
   "version": "3.7.3"
  }
 },
 "nbformat": 4,
 "nbformat_minor": 2
}
