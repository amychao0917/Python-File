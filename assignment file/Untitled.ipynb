{
 "cells": [
  {
   "cell_type": "code",
   "execution_count": 1,
   "metadata": {},
   "outputs": [],
   "source": [
    "import turtle\n",
    "screen=turtle.Screen()\n",
    "screen.setup(800,600)\n",
    "\n",
    "circle=turtle.Turtle()\n",
    "circle.shape('circle')\n",
    "circle.color('orange')\n",
    "circle.up\n",
    "circle.goto(0,100)\n",
    "circle.stamp()\n",
    "\n",
    "square=turtle.Turtle()\n",
    "square.shape('square')\n",
    "square.color('green')\n",
    "square.up()\n",
    "square.goto(0,200)\n",
    "square.stamp()\n",
    "\n",
    "turtle.exitonclick()"
   ]
  },
  {
   "cell_type": "code",
   "execution_count": null,
   "metadata": {},
   "outputs": [],
   "source": []
  }
 ],
 "metadata": {
  "kernelspec": {
   "display_name": "Python 3",
   "language": "python",
   "name": "python3"
  },
  "language_info": {
   "codemirror_mode": {
    "name": "ipython",
    "version": 3
   },
   "file_extension": ".py",
   "mimetype": "text/x-python",
   "name": "python",
   "nbconvert_exporter": "python",
   "pygments_lexer": "ipython3",
   "version": "3.7.3"
  }
 },
 "nbformat": 4,
 "nbformat_minor": 2
}
