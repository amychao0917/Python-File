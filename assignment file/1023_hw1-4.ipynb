{
 "cells": [
  {
   "cell_type": "code",
   "execution_count": 2,
   "metadata": {},
   "outputs": [],
   "source": [
    "%matplotlib inline\n",
    "\n",
    "import numpy as np\n",
    "import matplotlib.pyplot as plt\n",
    "import pandas as pd"
   ]
  },
  {
   "cell_type": "markdown",
   "metadata": {},
   "source": [
    "# 1. 猜數字遊戲"
   ]
  },
  {
   "cell_type": "code",
   "execution_count": 1,
   "metadata": {},
   "outputs": [
    {
     "name": "stdout",
     "output_type": "stream",
     "text": [
      "Populating the interactive namespace from numpy and matplotlib\n",
      "來看看你多會猜！請從1~100輸入一個號碼： 50\n",
      "比50小，再試試看\n",
      "來看看你多會猜！請從1~100輸入一個號碼： 37\n",
      "比37小，再試試看\n",
      "來看看你多會猜！請從1~100輸入一個號碼： 20\n",
      "比20大，再試試看\n",
      "來看看你多會猜！請從1~100輸入一個號碼： 25\n",
      "比25大，再試試看\n",
      "來看看你多會猜！請從1~100輸入一個號碼： 34\n",
      "比34大，再試試看\n",
      "來看看你多會猜！請從1~100輸入一個號碼： 36\n",
      "答對了！\n"
     ]
    }
   ],
   "source": [
    "%pylab inline\n",
    "r=randint(1,101)\n",
    "a=0\n",
    "while a!=r:\n",
    "    a=int(input(\"來看看你多會猜！請從1~100輸入一個號碼： \"))\n",
    "    if (a<r):\n",
    "        print(\"比{}大，再試試看\".format(a))\n",
    "    elif (a>r):\n",
    "        print(\"比{}小，再試試看\".format(a))\n",
    "    else:\n",
    "        print(\"答對了！\")"
   ]
  },
  {
   "cell_type": "markdown",
   "metadata": {},
   "source": [
    "# 2. 天干地支"
   ]
  },
  {
   "cell_type": "code",
   "execution_count": 3,
   "metadata": {},
   "outputs": [
    {
     "name": "stdout",
     "output_type": "stream",
     "text": [
      "2014 年是 甲午 年\n",
      "2015 年是 乙未 年\n",
      "2016 年是 丙申 年\n",
      "2017 年是 丁酉 年\n",
      "2018 年是 戊戌 年\n",
      "2019 年是 己亥 年\n",
      "2020 年是 庚子 年\n",
      "2021 年是 辛丑 年\n",
      "2022 年是 壬寅 年\n",
      "2023 年是 癸卯 年\n",
      "2024 年是 甲辰 年\n",
      "2025 年是 乙巳 年\n",
      "2026 年是 丙午 年\n",
      "2027 年是 丁未 年\n",
      "2028 年是 戊申 年\n",
      "2029 年是 己酉 年\n",
      "2030 年是 庚戌 年\n",
      "2031 年是 辛亥 年\n",
      "2032 年是 壬子 年\n",
      "2033 年是 癸丑 年\n",
      "2034 年是 甲寅 年\n",
      "2035 年是 乙卯 年\n",
      "2036 年是 丙辰 年\n",
      "2037 年是 丁巳 年\n",
      "2038 年是 戊午 年\n",
      "2039 年是 己未 年\n",
      "2040 年是 庚申 年\n",
      "2041 年是 辛酉 年\n",
      "2042 年是 壬戌 年\n",
      "2043 年是 癸亥 年\n",
      "2044 年是 甲子 年\n",
      "2045 年是 乙丑 年\n",
      "2046 年是 丙寅 年\n",
      "2047 年是 丁卯 年\n",
      "2048 年是 戊辰 年\n",
      "2049 年是 己巳 年\n",
      "2050 年是 庚午 年\n",
      "2051 年是 辛未 年\n",
      "2052 年是 壬申 年\n",
      "2053 年是 癸酉 年\n",
      "2054 年是 甲戌 年\n",
      "2055 年是 乙亥 年\n",
      "2056 年是 丙子 年\n",
      "2057 年是 丁丑 年\n",
      "2058 年是 戊寅 年\n",
      "2059 年是 己卯 年\n",
      "2060 年是 庚辰 年\n",
      "2061 年是 辛巳 年\n",
      "2062 年是 壬午 年\n",
      "2063 年是 癸未 年\n",
      "2064 年是 甲申 年\n",
      "2065 年是 乙酉 年\n",
      "2066 年是 丙戌 年\n",
      "2067 年是 丁亥 年\n",
      "2068 年是 戊子 年\n",
      "2069 年是 己丑 年\n",
      "2070 年是 庚寅 年\n",
      "2071 年是 辛卯 年\n",
      "2072 年是 壬辰 年\n",
      "2073 年是 癸巳 年\n"
     ]
    }
   ],
   "source": [
    "sky=['甲','乙','丙','丁','戊','己','庚','辛','壬','癸']\n",
    "base=['子','丑','寅','卯','辰','巳','午','未','申','酉','戌','亥']\n",
    "for i in range(2014,2074):\n",
    "    sky1=i%10-4\n",
    "    base1=i%12-4\n",
    "    print(i,\"年是\",sky[sky1]+base[base1],\"年\")"
   ]
  },
  {
   "cell_type": "markdown",
   "metadata": {},
   "source": [
    "# 3. 畫圖"
   ]
  },
  {
   "cell_type": "code",
   "execution_count": 8,
   "metadata": {},
   "outputs": [],
   "source": [
    "x=np.linspace(-1,1,100)\n",
    "y=np.cos(x)"
   ]
  },
  {
   "cell_type": "code",
   "execution_count": 9,
   "metadata": {},
   "outputs": [
    {
     "data": {
      "text/plain": [
       "<matplotlib.collections.PathCollection at 0x28786f426d8>"
      ]
     },
     "execution_count": 9,
     "metadata": {},
     "output_type": "execute_result"
    },
    {
     "data": {
      "image/png": "[encoded data removed]",
      "text/plain": [
       "<Figure size 432x288 with 1 Axes>"
      ]
     },
     "metadata": {
      "needs_background": "light"
     },
     "output_type": "display_data"
    }
   ],
   "source": [
    "noise=0.2*np.random.randint(100)\n",
    "plt.scatter(x,y+noise)"
   ]
  },
  {
   "cell_type": "markdown",
   "metadata": {},
   "source": [
    "# 4. 簡易計算"
   ]
  },
  {
   "cell_type": "code",
   "execution_count": 15,
   "metadata": {},
   "outputs": [],
   "source": [
    "import sympy as sp\n",
    "from sympy import S"
   ]
  },
  {
   "cell_type": "code",
   "execution_count": 16,
   "metadata": {},
   "outputs": [
    {
     "data": {
      "text/latex": [
       "$\\displaystyle 3.05357142857143$"
      ],
      "text/plain": [
       "3.05357142857143"
      ]
     },
     "execution_count": 16,
     "metadata": {},
     "output_type": "execute_result"
    }
   ],
   "source": [
    "S(17)/7+(5)/8"
   ]
  },
  {
   "cell_type": "code",
   "execution_count": 23,
   "metadata": {},
   "outputs": [],
   "source": [
    "from sympy.abc import x\n",
    "f=x**4-6*x+5"
   ]
  },
  {
   "cell_type": "code",
   "execution_count": 24,
   "metadata": {},
   "outputs": [
    {
     "data": {
      "text/latex": [
       "$\\displaystyle 4 x^{3} - 6$"
      ],
      "text/plain": [
       "4*x**3 - 6"
      ]
     },
     "execution_count": 24,
     "metadata": {},
     "output_type": "execute_result"
    }
   ],
   "source": [
    "sp.diff(f)"
   ]
  },
  {
   "cell_type": "code",
   "execution_count": null,
   "metadata": {},
   "outputs": [],
   "source": []
  }
 ],
 "metadata": {
  "kernelspec": {
   "display_name": "Python 3",
   "language": "python",
   "name": "python3"
  },
  "language_info": {
   "codemirror_mode": {
    "name": "ipython",
    "version": 3
   },
   "file_extension": ".py",
   "mimetype": "text/x-python",
   "name": "python",
   "nbconvert_exporter": "python",
   "pygments_lexer": "ipython3",
   "version": "3.7.3"
  }
 },
 "nbformat": 4,
 "nbformat_minor": 2
}
