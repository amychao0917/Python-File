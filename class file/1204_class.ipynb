{
 "cells": [
  {
   "cell_type": "code",
   "execution_count": 7,
   "metadata": {},
   "outputs": [],
   "source": [
    "import tkinter as tk"
   ]
  },
  {
   "cell_type": "code",
   "execution_count": 9,
   "metadata": {},
   "outputs": [
    {
     "name": "stdout",
     "output_type": "stream",
     "text": [
      "{'bd': ('bd', '-borderwidth'), 'borderwidth': ('borderwidth', 'borderWidth', 'BorderWidth', <pixel object: '0'>, 0), 'class': ('class', 'class', 'Class', 'Toplevel', 'Tk'), 'menu': ('menu', 'menu', 'Menu', '', ''), 'relief': ('relief', 'relief', 'Relief', <index object: 'flat'>, 'flat'), 'screen': ('screen', 'screen', 'Screen', '', ''), 'use': ('use', 'use', 'Use', '', ''), 'background': ('background', 'background', 'Background', <border object: 'SystemButtonFace'>, 'green'), 'bg': ('bg', '-background'), 'colormap': ('colormap', 'colormap', 'Colormap', '', ''), 'container': ('container', 'container', 'Container', 0, 0), 'cursor': ('cursor', 'cursor', 'Cursor', '', ''), 'height': ('height', 'height', 'Height', <pixel object: '0'>, 600), 'highlightbackground': ('highlightbackground', 'highlightBackground', 'HighlightBackground', <color object: 'SystemButtonFace'>, 'SystemButtonFace'), 'highlightcolor': ('highlightcolor', 'highlightColor', 'HighlightColor', <color object: 'SystemWindowFrame'>, 'SystemWindowFrame'), 'highlightthickness': ('highlightthickness', 'highlightThickness', 'HighlightThickness', <pixel object: '0'>, 0), 'padx': ('padx', 'padX', 'Pad', <pixel object: '0'>, <pixel object: '0'>), 'pady': ('pady', 'padY', 'Pad', <pixel object: '0'>, <pixel object: '0'>), 'takefocus': ('takefocus', 'takeFocus', 'TakeFocus', '0', '0'), 'visual': ('visual', 'visual', 'Visual', '', ''), 'width': ('width', 'width', 'Width', <pixel object: '0'>, 800)}\n"
     ]
    }
   ],
   "source": [
    "window = tk.Tk()\n",
    "window.title('hey')\n",
    "window.config(background = 'green', width = '800', height = '600')\n",
    "print(window.config())\n",
    "window.mainloop()"
   ]
  },
  {
   "cell_type": "code",
   "execution_count": 15,
   "metadata": {},
   "outputs": [],
   "source": [
    "import tkinter as tk\n",
    "\n",
    "def window_quit():\n",
    "    window.destroy()\n",
    "    #lbl.config(text=\"Please don't go\")\n",
    "    \n",
    "window = tk.Tk()\n",
    "lbl = tk.Label(window, text='Hello!')\n",
    "lbl.pack()\n",
    "\n",
    "btn = tk.Button(window, text = 'Close', command = window_quit)\n",
    "btn.pack()\n",
    "window.mainloop()"
   ]
  },
  {
   "cell_type": "code",
   "execution_count": 16,
   "metadata": {},
   "outputs": [],
   "source": [
    "import tkinter as tk\n",
    "\n",
    "def window_quit():\n",
    "    #window.destroy()\n",
    "    lbl.config(text= weightVar.get())\n",
    "    \n",
    "window = tk.Tk()\n",
    "\n",
    "weightVar = tk.StringVar()\n",
    "result = tk.Label\n",
    "\n",
    "frame = tk.Frame(window)\n",
    "frame.pack()\n",
    "\n",
    "lbl = tk.Label(window, text='Weight')\n",
    "lbl.pack(side='left')\n",
    "entry = tk.Entry(frame, textvariable=weightVar)\n",
    "entry.pack(side='top')\n",
    "\n",
    "btn = tk.Button(window, text = 'Close', command = window_quit)\n",
    "btn.pack(side='bottom')\n",
    "\n",
    "window.mainloop()"
   ]
  },
  {
   "cell_type": "code",
   "execution_count": null,
   "metadata": {},
   "outputs": [],
   "source": []
  }
 ],
 "metadata": {
  "kernelspec": {
   "display_name": "Python 3",
   "language": "python",
   "name": "python3"
  },
  "language_info": {
   "codemirror_mode": {
    "name": "ipython",
    "version": 3
   },
   "file_extension": ".py",
   "mimetype": "text/x-python",
   "name": "python",
   "nbconvert_exporter": "python",
   "pygments_lexer": "ipython3",
   "version": "3.7.3"
  }
 },
 "nbformat": 4,
 "nbformat_minor": 2
}
